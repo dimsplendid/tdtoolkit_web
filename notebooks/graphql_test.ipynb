{
 "cells": [
  {
   "cell_type": "code",
   "execution_count": 2,
   "metadata": {},
   "outputs": [
    {
     "name": "stdout",
     "output_type": "stream",
     "text": [
      "Collecting graphene\n",
      "  Downloading graphene-2.1.9-py2.py3-none-any.whl (107 kB)\n",
      "Collecting graphql-relay<3,>=2\n",
      "  Downloading graphql_relay-2.0.1-py3-none-any.whl (20 kB)\n",
      "Collecting graphql-core<3,>=2.1\n",
      "  Downloading graphql_core-2.3.2-py2.py3-none-any.whl (252 kB)\n",
      "Requirement already satisfied: six<2,>=1.10.0 in d:\\opt\\anaconda\\lib\\site-packages (from graphene) (1.15.0)\n",
      "Collecting aniso8601<=7,>=3\n",
      "  Downloading aniso8601-7.0.0-py2.py3-none-any.whl (42 kB)\n",
      "Collecting promise<3,>=2.2\n",
      "  Downloading promise-2.3.tar.gz (19 kB)\n",
      "Collecting rx<2,>=1.6\n",
      "  Downloading Rx-1.6.1-py2.py3-none-any.whl (179 kB)\n",
      "Building wheels for collected packages: promise\n",
      "  Building wheel for promise (setup.py): started\n",
      "  Building wheel for promise (setup.py): finished with status 'done'\n",
      "  Created wheel for promise: filename=promise-2.3-py3-none-any.whl size=21500 sha256=a9b78efd94e78db8967aaeee4d8f029d62d2b52cba2b269b27a5fa9d2c8cd291\n",
      "  Stored in directory: c:\\users\\andrew.tseng\\appdata\\local\\pip\\cache\\wheels\\54\\aa\\01\\724885182f93150035a2a91bce34a12877e8067a97baaf5dc8\n",
      "Successfully built promise\n",
      "Installing collected packages: promise, rx, graphql-core, graphql-relay, aniso8601, graphene\n",
      "Successfully installed aniso8601-7.0.0 graphene-2.1.9 graphql-core-2.3.2 graphql-relay-2.0.1 promise-2.3 rx-1.6.1\n"
     ]
    }
   ],
   "source": [
    "!pip install graphene"
   ]
  },
  {
   "cell_type": "code",
   "execution_count": 9,
   "metadata": {},
   "outputs": [
    {
     "name": "stdout",
     "output_type": "stream",
     "text": [
      "{'hello': 'Hello World'}\n"
     ]
    }
   ],
   "source": [
    "import graphene\n",
    "\n",
    "class Query(graphene.ObjectType):\n",
    "    hello = graphene.String(name=graphene.String(default_value='World'))\n",
    "    \n",
    "    def resolve_hello(self, info, name):\n",
    "        return 'Hello ' + name\n",
    "    \n",
    "schema = graphene.Schema(query=Query)\n",
    "result = schema.execute('{ hello }')\n",
    "print(result.data)"
   ]
  },
  {
   "cell_type": "code",
   "execution_count": 5,
   "metadata": {},
   "outputs": [
    {
     "data": {
      "text/plain": [
       "<function __main__.MyClass.f(self)>"
      ]
     },
     "execution_count": 5,
     "metadata": {},
     "output_type": "execute_result"
    }
   ],
   "source": []
  },
  {
   "cell_type": "code",
   "execution_count": 7,
   "metadata": {},
   "outputs": [
    {
     "data": {
      "text/plain": [
       "'hello world'"
      ]
     },
     "execution_count": 7,
     "metadata": {},
     "output_type": "execute_result"
    }
   ],
   "source": []
  }
 ],
 "metadata": {
  "kernelspec": {
   "display_name": "Python 3",
   "language": "python",
   "name": "python3"
  },
  "language_info": {
   "codemirror_mode": {
    "name": "ipython",
    "version": 3
   },
   "file_extension": ".py",
   "mimetype": "text/x-python",
   "name": "python",
   "nbconvert_exporter": "python",
   "pygments_lexer": "ipython3",
   "version": "3.8.5"
  }
 },
 "nbformat": 4,
 "nbformat_minor": 4
}
