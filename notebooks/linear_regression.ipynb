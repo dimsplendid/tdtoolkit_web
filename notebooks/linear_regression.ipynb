{
 "cells": [
  {
   "cell_type": "code",
   "execution_count": 13,
   "id": "41e44aa1-10ef-4760-875a-f82c7873d34c",
   "metadata": {},
   "outputs": [],
   "source": [
    "# make a simple dataset\n",
    "import numpy as np\n",
    "\n",
    "x = np.arange(1, 10, step=0.1)\n",
    "y = 5*x + 3 + np.random.randn(x.shape[0]) * 2"
   ]
  },
  {
   "cell_type": "code",
   "execution_count": 55,
   "id": "bc6aef47-89c1-4e94-b704-949e2a56ee04",
   "metadata": {},
   "outputs": [
    {
     "data": {
      "image/png": "[encoded data removed]",
      "text/plain": [
       "<Figure size 432x288 with 1 Axes>"
      ]
     },
     "metadata": {},
     "output_type": "display_data"
    }
   ],
   "source": [
    "import matplotlib.pyplot as plt\n",
    "plt.style.use('ggplot')\n",
    "plt.scatter(x, y, label=\"raw data\")\n",
    "plt.plot(x, y_pred2, label=\"fitting\")\n",
    "plt.legend()\n",
    "\n",
    "plt.xlabel('x')\n",
    "plt.ylabel('y')\n",
    "plt.show()"
   ]
  },
  {
   "cell_type": "code",
   "execution_count": 24,
   "id": "f9429419-bfc2-457e-8ac1-a8fd9c45b180",
   "metadata": {},
   "outputs": [],
   "source": [
    "x = x[:, np.newaxis]"
   ]
  },
  {
   "cell_type": "code",
   "execution_count": 29,
   "id": "b06d2746-9ba4-4032-8d6f-98292543de1f",
   "metadata": {},
   "outputs": [],
   "source": [
    "# create simple regression model from keras\n",
    "from tensorflow.keras import Model\n",
    "from tensorflow.keras.layers import Input, Dense\n",
    "from tensorflow.keras.optimizers import SGD"
   ]
  },
  {
   "cell_type": "code",
   "execution_count": 31,
   "id": "a4392475-25fa-4931-907e-78ee9c57317a",
   "metadata": {},
   "outputs": [
    {
     "name": "stdout",
     "output_type": "stream",
     "text": [
      "Model: \"linear_regression\"\n",
      "_________________________________________________________________\n",
      "Layer (type)                 Output Shape              Param #   \n",
      "=================================================================\n",
      "input_layer (InputLayer)     [(None, 1)]               0         \n",
      "_________________________________________________________________\n",
      "dense1 (Dense)               (None, 1)                 2         \n",
      "=================================================================\n",
      "Total params: 2\n",
      "Trainable params: 2\n",
      "Non-trainable params: 0\n",
      "_________________________________________________________________\n"
     ]
    }
   ],
   "source": [
    "# Create linear regression with functional api method\n",
    "inputs = Input(shape=(1,), name=\"input_layer\")\n",
    "dense = Dense(1, use_bias=True, activation='linear', name='dense1', kernel_initializer='glorot_uniform')\n",
    "\n",
    "outputs = dense(inputs)\n",
    "\n",
    "model = Model(inputs, outputs, name='linear_regression')\n",
    "\n",
    "model.summary()"
   ]
  },
  {
   "cell_type": "code",
   "execution_count": 32,
   "id": "cb2f5c6b-0ebe-4f40-80bb-d5adc00e6988",
   "metadata": {},
   "outputs": [
    {
     "data": {
      "text/plain": [
       "[array([[-0.24371743]], dtype=float32), array([0.], dtype=float32)]"
      ]
     },
     "execution_count": 32,
     "metadata": {},
     "output_type": "execute_result"
    }
   ],
   "source": [
    "model.get_weights()"
   ]
  },
  {
   "cell_type": "code",
   "execution_count": 34,
   "id": "8b85beda-fbcc-401b-9253-f98175f79357",
   "metadata": {},
   "outputs": [
    {
     "data": {
      "text/plain": [
       "<tensorflow.python.keras.callbacks.History at 0x27ff1194888>"
      ]
     },
     "execution_count": 34,
     "metadata": {},
     "output_type": "execute_result"
    }
   ],
   "source": [
    "model.compile(loss=\"MSE\", optimizer=SGD(learning_rate=1e-2))\n",
    "model.fit(\n",
    "    x=x,\n",
    "    y=y,\n",
    "    epochs=300,\n",
    "    verbose=0\n",
    ")"
   ]
  },
  {
   "cell_type": "code",
   "execution_count": 43,
   "id": "af4380f2-38b9-493c-8da6-12f56ad40f35",
   "metadata": {},
   "outputs": [
    {
     "data": {
      "text/plain": [
       "array([[4.998892]], dtype=float32)"
      ]
     },
     "execution_count": 43,
     "metadata": {},
     "output_type": "execute_result"
    }
   ],
   "source": [
    "model.get_weights()[0]"
   ]
  },
  {
   "cell_type": "code",
   "execution_count": 36,
   "id": "788d15f0-16ed-4ec4-a289-84a5299c2317",
   "metadata": {},
   "outputs": [],
   "source": [
    " y_pred = model.predict(x)"
   ]
  },
  {
   "cell_type": "code",
   "execution_count": 41,
   "id": "972321c8-088e-4184-ab35-d49a5b31d4b9",
   "metadata": {},
   "outputs": [
    {
     "name": "stdout",
     "output_type": "stream",
     "text": [
      "0.9768607277638617\n"
     ]
    }
   ],
   "source": [
    "from sklearn.metrics import r2_score\n",
    "r2 = r2_score(y, y_pred)\n",
    "print(r2)"
   ]
  },
  {
   "cell_type": "code",
   "execution_count": 47,
   "id": "ea1f42a5-7455-4745-a39c-cf97a4a6aa77",
   "metadata": {},
   "outputs": [],
   "source": [
    "# save model\n",
    "model.save('./linear.h5')"
   ]
  },
  {
   "cell_type": "code",
   "execution_count": 50,
   "id": "6c543622-8b26-4908-a157-f9283ac0d328",
   "metadata": {},
   "outputs": [],
   "source": [
    "# load weights\n",
    "model.load_weights('./linear.h5')\n",
    "# or more general, just load a model\n",
    "from tensorflow.keras.models import load_model\n",
    "reconstruct_model = load_model(\"linear.h5\")"
   ]
  },
  {
   "cell_type": "code",
   "execution_count": 54,
   "id": "06f94c8b-7a05-4ed4-bb96-d9290a9439c1",
   "metadata": {},
   "outputs": [],
   "source": [
    "# check\n",
    "y_pred2 = reconstruct_model.predict(x)"
   ]
  }
 ],
 "metadata": {
  "kernelspec": {
   "display_name": "Python 3",
   "language": "python",
   "name": "python3"
  },
  "language_info": {
   "codemirror_mode": {
    "name": "ipython",
    "version": 3
   },
   "file_extension": ".py",
   "mimetype": "text/x-python",
   "name": "python",
   "nbconvert_exporter": "python",
   "pygments_lexer": "ipython3",
   "version": "3.7.4"
  }
 },
 "nbformat": 4,
 "nbformat_minor": 5
}
